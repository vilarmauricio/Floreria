{
 "cells": [
  {
   "cell_type": "code",
   "execution_count": 1,
   "metadata": {},
   "outputs": [],
   "source": [
    "from os import system\n",
    "from pathlib import Path\n",
    "import shutil"
   ]
  },
  {
   "cell_type": "markdown",
   "metadata": {},
   "source": [
    "Exploramos nombre de carpetas y archivos"
   ]
  },
  {
   "cell_type": "code",
   "execution_count": 20,
   "metadata": {},
   "outputs": [],
   "source": [
    "def mostrar_carpetas():\n",
    "    directorio = Path('../excel')\n",
    "    lista_carpetas = [fichero.name for fichero in directorio.iterdir() if fichero.is_dir()]\n",
    "           \n",
    "    return lista_carpetas\n"
   ]
  },
  {
   "cell_type": "code",
   "execution_count": 21,
   "metadata": {},
   "outputs": [],
   "source": [
    "carpetas = mostrar_carpetas()"
   ]
  },
  {
   "cell_type": "code",
   "execution_count": 23,
   "metadata": {},
   "outputs": [],
   "source": [
    "def mostrar_archivos(lista_carpetas):\n",
    "\n",
    "    archivos = Path('..\\\\excel', lista_carpetas[0])\n",
    "    lista_archivo = [fichero.name for fichero in archivos.iterdir() if fichero.is_file()]\n",
    "\n",
    "    return lista_archivo"
   ]
  },
  {
   "cell_type": "code",
   "execution_count": 24,
   "metadata": {},
   "outputs": [
    {
     "data": {
      "text/plain": [
       "['PLANILLA VENTA FLORES VERTICAL dic 2011 (MONO)2.xlsx',\n",
       " 'PLANILLA VENTA FLORES VERTICAL nov 2011(MONO)2.xls',\n",
       " 'PLANILLA VENTA FLORES VERTICAL nov 2011(MONO)2.xlsx',\n",
       " 'PLANILLA VENTA FLORES VERTICAL oct 2011(MONO)2.xls',\n",
       " 'PLANILLA VENTA FLORES VERTICAL oct 2011(MONO)2.xlsx',\n",
       " 'PLANILLA VENTA FLORES VERTICAL sep2011(MONO)2.xls',\n",
       " '~$PLANILLA VENTA FLORES VERTICAL sep2011(MONO)2.xls']"
      ]
     },
     "execution_count": 24,
     "metadata": {},
     "output_type": "execute_result"
    }
   ],
   "source": [
    "mostrar_archivos(carpetas)"
   ]
  }
 ],
 "metadata": {
  "kernelspec": {
   "display_name": "Python 3.9.5 64-bit",
   "language": "python",
   "name": "python3"
  },
  "language_info": {
   "codemirror_mode": {
    "name": "ipython",
    "version": 3
   },
   "file_extension": ".py",
   "mimetype": "text/x-python",
   "name": "python",
   "nbconvert_exporter": "python",
   "pygments_lexer": "ipython3",
   "version": "3.9.5"
  },
  "orig_nbformat": 4,
  "vscode": {
   "interpreter": {
    "hash": "09ae61c9c575b6ce542c2a658a8f4f3546e2ab010aea658e85c28f29deb099ac"
   }
  }
 },
 "nbformat": 4,
 "nbformat_minor": 2
}
