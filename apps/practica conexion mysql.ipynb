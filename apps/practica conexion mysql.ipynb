{
 "cells": [
  {
   "cell_type": "markdown",
   "metadata": {},
   "source": [
    "Intalacion de conector:\n",
    "\n",
    "$ pip install mysql-connector-python"
   ]
  },
  {
   "cell_type": "code",
   "execution_count": 2,
   "metadata": {},
   "outputs": [],
   "source": [
    "import mysql.connector"
   ]
  },
  {
   "cell_type": "code",
   "execution_count": 19,
   "metadata": {},
   "outputs": [
    {
     "name": "stdout",
     "output_type": "stream",
     "text": [
      "<mysql.connector.connection_cext.CMySQLConnection object at 0x000002DF9E46C190>\n"
     ]
    }
   ],
   "source": [
    "# Conexion\n",
    "conn = mysql.connector.connect(\n",
    "    host = 'localhost',\n",
    "    user = 'root', #verificar usuario\n",
    "    password = '', # revisar\n",
    "    port = '3306', # Si usamos el puerto por default no hace falta\n",
    "    #database = 'floreria', # Nombre de la base de datos si existiera\n",
    ")\n",
    "\n",
    "print(conn)"
   ]
  },
  {
   "cell_type": "code",
   "execution_count": null,
   "metadata": {},
   "outputs": [],
   "source": [
    "# creamos un cursor para interactuar con nuestra base de datos\n",
    "cursor = conn.cursor()\n",
    "\n",
    "# Verificamos bases de datos\n",
    "cursor.execute(\"SHOW DATABASES\")\n",
    "\n",
    "# Traemos los nombres\n",
    "print(type(cursor))\n",
    "for bd in cursor:\n",
    "    print(bd)\n",
    "\n",
    "# Creamos la base\n",
    "#cursor.execute('CREATE DATABASE computadoras')\n",
    "\n",
    "\n",
    "# Recordar cerrar la conexión\n",
    "conn.close()"
   ]
  },
  {
   "cell_type": "markdown",
   "metadata": {},
   "source": [
    "Nos conectamos a nuestra base de datos"
   ]
  },
  {
   "cell_type": "code",
   "execution_count": 3,
   "metadata": {},
   "outputs": [
    {
     "name": "stdout",
     "output_type": "stream",
     "text": [
      "<mysql.connector.connection_cext.CMySQLConnection object at 0x0000022A131C6D30>\n"
     ]
    }
   ],
   "source": [
    "# Conexion\n",
    "conn = mysql.connector.connect(\n",
    "    host = 'localhost',\n",
    "    user = 'root', #verificar usuario\n",
    "    password = '', # revisar\n",
    "    port = '3306', # Si usamos el puerto por default no hace falta\n",
    "    database = 'floreria', # Nombre de la base de datos si existiera\n",
    ")\n",
    "\n",
    "print(conn)"
   ]
  },
  {
   "cell_type": "code",
   "execution_count": 1,
   "metadata": {},
   "outputs": [
    {
     "ename": "NameError",
     "evalue": "name 'conn' is not defined",
     "output_type": "error",
     "traceback": [
      "\u001b[1;31m---------------------------------------------------------------------------\u001b[0m",
      "\u001b[1;31mNameError\u001b[0m                                 Traceback (most recent call last)",
      "\u001b[1;32md:\\Programacion\\Los Alamos\\repositorio github\\Floreria\\apps\\practica conexion mysql.ipynb Celda 7\u001b[0m in \u001b[0;36m<cell line: 1>\u001b[1;34m()\u001b[0m\n\u001b[1;32m----> <a href='vscode-notebook-cell:/d%3A/Programacion/Los%20Alamos/repositorio%20github/Floreria/apps/practica%20conexion%20mysql.ipynb#X26sZmlsZQ%3D%3D?line=0'>1</a>\u001b[0m cursor \u001b[39m=\u001b[39m conn\u001b[39m.\u001b[39mcursor()\n\u001b[0;32m      <a href='vscode-notebook-cell:/d%3A/Programacion/Los%20Alamos/repositorio%20github/Floreria/apps/practica%20conexion%20mysql.ipynb#X26sZmlsZQ%3D%3D?line=2'>3</a>\u001b[0m \u001b[39m# TABLAS\u001b[39;00m\n\u001b[0;32m      <a href='vscode-notebook-cell:/d%3A/Programacion/Los%20Alamos/repositorio%20github/Floreria/apps/practica%20conexion%20mysql.ipynb#X26sZmlsZQ%3D%3D?line=3'>4</a>\u001b[0m \n\u001b[0;32m      <a href='vscode-notebook-cell:/d%3A/Programacion/Los%20Alamos/repositorio%20github/Floreria/apps/practica%20conexion%20mysql.ipynb#X26sZmlsZQ%3D%3D?line=4'>5</a>\u001b[0m \u001b[39m# Revisamos tablas\u001b[39;00m\n\u001b[0;32m      <a href='vscode-notebook-cell:/d%3A/Programacion/Los%20Alamos/repositorio%20github/Floreria/apps/practica%20conexion%20mysql.ipynb#X26sZmlsZQ%3D%3D?line=5'>6</a>\u001b[0m cursor\u001b[39m.\u001b[39mexecute(\u001b[39m'\u001b[39m\u001b[39mSHOW TABLES\u001b[39m\u001b[39m'\u001b[39m)\n",
      "\u001b[1;31mNameError\u001b[0m: name 'conn' is not defined"
     ]
    }
   ],
   "source": [
    "cursor = conn.cursor()\n",
    "\n",
    "# TABLAS\n",
    "\n",
    "# Revisamos tablas\n",
    "cursor.execute('SHOW TABLES')\n",
    "print('TABLAS: \\n')\n",
    "for tb in cursor:\n",
    "    print(tb)\n",
    "print('\\n')\n",
    "cursor.execute('describe producto')\n",
    "print('CAMPOS: \\n')\n",
    "for campo in cursor:\n",
    "    print(campo)\n",
    "\n",
    "# Creamos una variable con el commando Mysql\n",
    "sql = \"\"\"CREATE TABLE cliente (\n",
    "                                nombre VARCHAR(100),\n",
    "                                direccion VARCHAR(200))\"\"\"\n",
    "\n",
    "# Eliminamos tabla\n",
    "#cursor.execute('DROP TABLE cliente')\n",
    "\n",
    "# Ejecutamos\n",
    "# cursor.execute(sql)\n",
    "\n",
    "# Actualizamos cambios\n",
    "# conn.commit()\n",
    "\n",
    "# Modificamos tabla\n",
    "\n",
    "#sql = \"\"\"ALTER TABLE cliente ADD COLUMN id INT AUTO_INCREMENT PRIMARY KEY\"\"\"\n",
    "#cursor.execute(sql)\n",
    "#conn.commit()\n",
    "\n",
    "\n",
    "# Cerramos conexion\n",
    "conn.close()\n"
   ]
  },
  {
   "cell_type": "markdown",
   "metadata": {},
   "source": [
    "Insertar datos"
   ]
  },
  {
   "cell_type": "code",
   "execution_count": null,
   "metadata": {},
   "outputs": [],
   "source": [
    "cursor = conn.cursor()\n",
    "\n",
    "sql = \"\"\"INSERT INTO cliente (nombre, direccion)\n",
    "            VALUES (%s, %s)\"\"\"\n",
    "\n",
    "# Creamos tupla con los valores\n",
    "valores = ('Miguel Zamora', 'Ciudad de Mexico')\n",
    "\n",
    "cursor.execute(sql, valores)\n",
    "conn.commit()\n",
    "\n",
    "# Vemos cuantos registros insertamos\n",
    "print(cursor.rowcount, 'registro insertado')"
   ]
  },
  {
   "cell_type": "markdown",
   "metadata": {},
   "source": [
    "Insertamos una lista de tuplas"
   ]
  },
  {
   "cell_type": "code",
   "execution_count": null,
   "metadata": {},
   "outputs": [],
   "source": [
    "cursor = conn.cursor()\n",
    "\n",
    "sql = \"\"\"INSERT INTO cliente (nombre, direccion)\n",
    "            VALUES (%s, %s)\"\"\"\n",
    "\n",
    "# Creamos tupla con los valores\n",
    "valores = [('Miguel Zamora', 'Ciudad de Mexico'),\n",
    "            ('Jose Garcia', 'Nueva Guinea'),\n",
    "            ('Roque Martinez', 'Santa Lucia')\n",
    "        ]\n",
    "\n",
    "# Utilizamos executemany\n",
    "cursor.executemany(sql, valores)\n",
    "conn.commit()\n",
    "\n",
    "# Vemos cuantos registros insertamos\n",
    "print(cursor.rowcount, 'registro insertado')"
   ]
  },
  {
   "cell_type": "code",
   "execution_count": null,
   "metadata": {},
   "outputs": [],
   "source": [
    "# Manera directa\n",
    "cursor.execute(\"\"\"INSERT INTO cliente (nombre, direccion)\n",
    "            VALUES ('Miguel Zamora', 'Ciudad de Mexico')\"\"\")\n",
    "\n",
    "print(\"Se inserto el ID: \", cursor.lastrowid)\n"
   ]
  },
  {
   "cell_type": "markdown",
   "metadata": {},
   "source": [
    "Seleccionamos datos"
   ]
  },
  {
   "cell_type": "code",
   "execution_count": null,
   "metadata": {},
   "outputs": [],
   "source": [
    "sql = \"\"\"SELECT * FROM cliente\"\"\"\n",
    "cursor.execute(sql)\n",
    "\n",
    "\n",
    "# Lo mostramos como tuplas\n",
    "for dato in cursor:\n",
    "    print(dato)\n",
    "\n",
    "# Otro metodo\n",
    "clientes = cursor.fetchall()\n",
    "\n",
    "for cliente in clientes:\n",
    "    print(cliente)\n",
    "\n",
    "clientes = cursor.fetchone()\n"
   ]
  },
  {
   "cell_type": "code",
   "execution_count": 32,
   "metadata": {},
   "outputs": [],
   "source": [
    "# Cerramos conexion\n",
    "conn.close()"
   ]
  }
 ],
 "metadata": {
  "kernelspec": {
   "display_name": "Python 3.9.5 64-bit",
   "language": "python",
   "name": "python3"
  },
  "language_info": {
   "codemirror_mode": {
    "name": "ipython",
    "version": 3
   },
   "file_extension": ".py",
   "mimetype": "text/x-python",
   "name": "python",
   "nbconvert_exporter": "python",
   "pygments_lexer": "ipython3",
   "version": "3.9.5"
  },
  "orig_nbformat": 4,
  "vscode": {
   "interpreter": {
    "hash": "09ae61c9c575b6ce542c2a658a8f4f3546e2ab010aea658e85c28f29deb099ac"
   }
  }
 },
 "nbformat": 4,
 "nbformat_minor": 2
}
